{
 "cells": [
  {
   "cell_type": "code",
   "execution_count": null,
   "metadata": {},
   "outputs": [],
   "source": [
    "import pandas as pd\n",
    "from db_connection import conn"
   ]
  },
  {
   "cell_type": "code",
   "execution_count": null,
   "metadata": {},
   "outputs": [],
   "source": [
    "# Cargar el CSV en un DataFrame\n",
    "df = pd.read_csv('C:\\Users\\HP\\Desktop\\Workshop_1\\Data\\candidates (1).csv', delimiter=';')\n",
    "\n",
    "# Mostrar las primeras filas para verificar que se cargó correctamente\n",
    "df.head()"
   ]
  },
  {
   "cell_type": "code",
   "execution_count": null,
   "metadata": {},
   "outputs": [],
   "source": [
    "# Cargar los datos en la tabla 'candidates' en PostgreSQL\n",
    "df.to_sql(name='candidates', con=conn.engine, if_exists='replace', index=False)\n",
    "\n",
    "# Mensaje de confirmación\n",
    "print(\"Datos cargados exitosamente en la tabla 'candidates'.\")"
   ]
  },
  {
   "cell_type": "code",
   "execution_count": null,
   "metadata": {},
   "outputs": [],
   "source": [
    "# Consulta para verificar la carga de datos\n",
    "query = \"SELECT * FROM candidates LIMIT 5\"\n",
    "result = pd.read_sql(query, con=conn.engine)\n",
    "\n",
    "# Mostrar los resultados de la consulta\n",
    "result"
   ]
  }
 ],
 "metadata": {
  "language_info": {
   "name": "python"
  }
 },
 "nbformat": 4,
 "nbformat_minor": 2
}
